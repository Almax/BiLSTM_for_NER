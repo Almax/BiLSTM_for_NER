{
 "cells": [
  {
   "cell_type": "code",
   "execution_count": 1,
   "metadata": {
    "collapsed": false,
    "deletable": true,
    "editable": true
   },
   "outputs": [
    {
     "data": {
      "application/javascript": [
       "IPython.notebook.set_autosave_interval(10000)"
      ]
     },
     "metadata": {},
     "output_type": "display_data"
    },
    {
     "name": "stdout",
     "output_type": "stream",
     "text": [
      "Autosaving every 10 seconds\n"
     ]
    },
    {
     "name": "stderr",
     "output_type": "stream",
     "text": [
      "Using Theano backend.\n",
      "Using gpu device 2: Tesla K80 (CNMeM is enabled with initial size: 95.0% of memory, cuDNN 4007)\n",
      "/home/sag/src_George/workspace/virtualenv/lib/python3.4/site-packages/gensim/utils.py:1015: UserWarning: Pattern library is not installed, lemmatization won't be available.\n",
      "  warnings.warn(\"Pattern library is not installed, lemmatization won't be available.\")\n"
     ]
    }
   ],
   "source": [
    "%matplotlib inline\n",
    "%load_ext autoreload\n",
    "%autoreload 2\n",
    "%autosave 10\n",
    "\n",
    "gpu_id='gpu2'\n",
    "import os\n",
    "os.environ[\"THEANO_FLAGS\"] = \"device=\"+gpu_id +\",lib.cnmem=1\"\n",
    "\n",
    "import numpy as np\n",
    "from keras.layers.advanced_activations import SReLU\n",
    "from keras import callbacks as ckbs\n",
    "import random\n",
    "import time\n",
    "import gzip\n",
    "from keras.models import model_from_json\n",
    "import pickle as pkl\n",
    "import keras\n",
    "from keras.models import Sequential\n",
    "from keras.layers.core import *\n",
    "from keras.layers.wrappers import *\n",
    "from keras.optimizers import *\n",
    "from keras.utils import np_utils\n",
    "from keras.layers.embeddings import Embedding\n",
    "from keras.layers import LSTM\n",
    "from docutils.languages.af import labels\n",
    "from sklearn.model_selection import train_test_split\n",
    "from sklearn.preprocessing import OneHotEncoder\n",
    "import gensim"
   ]
  },
  {
   "cell_type": "code",
   "execution_count": 2,
   "metadata": {
    "collapsed": true,
    "deletable": true,
    "editable": true
   },
   "outputs": [],
   "source": [
    "f = gzip.open('../data/processed/pkl_dialog_select/embeddings.pkl.gz', 'rb')\n",
    "embeddings = pkl.load(f)\n",
    "f.close()\n",
    "\n",
    "label2Idx = embeddings['label2Idx']\n",
    "\n",
    "#Inverse label mapping\n",
    "idx2Label = {v: k for k, v in label2Idx.items()}\n",
    "\n",
    "f = gzip.open('../data/processed/pkl_dialog_select/data.pkl.gz', 'rb')\n",
    "test_data = pkl.load(f)\n",
    "dev_data = pkl.load(f)\n",
    "#wiki_data = pkl.load(f)\n",
    "f.close()\n",
    "\n",
    "n_out = len(label2Idx)"
   ]
  },
  {
   "cell_type": "code",
   "execution_count": 3,
   "metadata": {
    "collapsed": true,
    "deletable": true,
    "editable": true
   },
   "outputs": [],
   "source": [
    "def get_data_for_testing(matrix, target):\n",
    "   \n",
    "    train_samples = int(matrix.shape[0]*1)\n",
    "    X_train = matrix[:train_samples]\n",
    "    X_test = matrix[train_samples:]\n",
    "        \n",
    "    y_train = target[:train_samples]\n",
    "    y_test = target[train_samples:]\n",
    "        \n",
    "    \n",
    "    \n",
    "    return  [X_train[:,:,i] for i in range(X_train.shape[2])], \\\n",
    "            y_train"
   ]
  },
  {
   "cell_type": "code",
   "execution_count": 4,
   "metadata": {
    "collapsed": true,
    "deletable": true,
    "editable": true
   },
   "outputs": [],
   "source": [
    "def load_neural_network(file_from):\n",
    "    (nn_arch, nn_weights_path) = pkl.load(open(file_from, 'rb'))\n",
    "    nn = model_from_json(nn_arch)\n",
    "    nn.set_weights(nn_weights_path)\n",
    "    return nn"
   ]
  },
  {
   "cell_type": "code",
   "execution_count": 5,
   "metadata": {
    "collapsed": true,
    "deletable": true,
    "editable": true
   },
   "outputs": [],
   "source": [
    "def get_data(data):\n",
    "    print( \"%d test size\" % len(data))\n",
    "    data = np.array(data)\n",
    "    print(data.shape)\n",
    "    X = [x[0] for x in data]\n",
    "    y = [x[1][0] for x in data]\n",
    "    return np.array(X), np.array(y)"
   ]
  },
  {
   "cell_type": "code",
   "execution_count": 6,
   "metadata": {
    "collapsed": true,
    "deletable": true,
    "editable": true
   },
   "outputs": [],
   "source": [
    "def divide_target(y): \n",
    "    y_t = [] \n",
    "    for x in y: \n",
    "        y_t.append(x[0]) \n",
    "    return np.array(y_t)"
   ]
  },
  {
   "cell_type": "code",
   "execution_count": 7,
   "metadata": {
    "collapsed": false,
    "deletable": true,
    "editable": true
   },
   "outputs": [
    {
     "name": "stdout",
     "output_type": "stream",
     "text": [
      "59381 test size\n",
      "(59381, 2)\n"
     ]
    }
   ],
   "source": [
    "from sklearn.metrics import classification_report\n",
    "X_test,y_t = get_data(test_data)"
   ]
  },
  {
   "cell_type": "code",
   "execution_count": 8,
   "metadata": {
    "collapsed": false,
    "deletable": true,
    "editable": true
   },
   "outputs": [],
   "source": [
    "y_test = divide_target(y_t)"
   ]
  },
  {
   "cell_type": "code",
   "execution_count": 9,
   "metadata": {
    "collapsed": true,
    "deletable": true,
    "editable": true
   },
   "outputs": [],
   "source": [
    "X_test,y_test = get_data_for_testing(X_test,y_test)"
   ]
  },
  {
   "cell_type": "code",
   "execution_count": null,
   "metadata": {
    "collapsed": true,
    "deletable": true,
    "editable": true
   },
   "outputs": [],
   "source": [
    "y_test = y_test.astype(np.int64)"
   ]
  },
  {
   "cell_type": "markdown",
   "metadata": {
    "deletable": true,
    "editable": true
   },
   "source": [
    "This function load model and make test (classification report)"
   ]
  },
  {
   "cell_type": "code",
   "execution_count": null,
   "metadata": {
    "collapsed": false,
    "deletable": true,
    "editable": true
   },
   "outputs": [],
   "source": [
    "def process(model_name):\n",
    "    model = load_neural_network('../models/' + model_name)\n",
    "    pred = model.predict_classes(X_test, batch_size=128, verbose=1)\n",
    "    target_names = [idx2Label[0], idx2Label[1], idx2Label[2], idx2Label[3]]\n",
    "    print(classification_report(y_test, pred, target_names=target_names))\n",
    "    return model"
   ]
  },
  {
   "cell_type": "code",
   "execution_count": null,
   "metadata": {
    "collapsed": false,
    "deletable": true,
    "editable": true
   },
   "outputs": [],
   "source": [
    "idx2Label[3]"
   ]
  },
  {
   "cell_type": "code",
   "execution_count": null,
   "metadata": {
    "collapsed": false,
    "deletable": true,
    "editable": true
   },
   "outputs": [],
   "source": [
    "process('new1')"
   ]
  },
  {
   "cell_type": "code",
   "execution_count": null,
   "metadata": {
    "collapsed": false,
    "deletable": true,
    "editable": true
   },
   "outputs": [],
   "source": [
    "process('new4')"
   ]
  },
  {
   "cell_type": "code",
   "execution_count": null,
   "metadata": {
    "collapsed": false,
    "deletable": true,
    "editable": true
   },
   "outputs": [],
   "source": [
    "process('new2')"
   ]
  },
  {
   "cell_type": "code",
   "execution_count": null,
   "metadata": {
    "collapsed": false,
    "deletable": true,
    "editable": true
   },
   "outputs": [],
   "source": [
    "m = process('new5')"
   ]
  },
  {
   "cell_type": "code",
   "execution_count": null,
   "metadata": {
    "collapsed": false,
    "deletable": true,
    "editable": true
   },
   "outputs": [],
   "source": [
    "m.summary()"
   ]
  },
  {
   "cell_type": "code",
   "execution_count": null,
   "metadata": {
    "collapsed": false,
    "deletable": true,
    "editable": true
   },
   "outputs": [],
   "source": [
    "m = process('new7')"
   ]
  },
  {
   "cell_type": "code",
   "execution_count": null,
   "metadata": {
    "collapsed": false,
    "deletable": true,
    "editable": true
   },
   "outputs": [],
   "source": [
    "m = process('new8')"
   ]
  },
  {
   "cell_type": "code",
   "execution_count": null,
   "metadata": {
    "collapsed": false,
    "deletable": true,
    "editable": true
   },
   "outputs": [],
   "source": [
    "m = process('new12')"
   ]
  },
  {
   "cell_type": "code",
   "execution_count": null,
   "metadata": {
    "collapsed": false,
    "deletable": true,
    "editable": true
   },
   "outputs": [],
   "source": [
    "m = process('new13')"
   ]
  },
  {
   "cell_type": "code",
   "execution_count": null,
   "metadata": {
    "collapsed": false,
    "deletable": true,
    "editable": true
   },
   "outputs": [],
   "source": [
    "m = process('new14')"
   ]
  },
  {
   "cell_type": "code",
   "execution_count": null,
   "metadata": {
    "collapsed": false,
    "deletable": true,
    "editable": true
   },
   "outputs": [],
   "source": [
    "m = process('new16')"
   ]
  },
  {
   "cell_type": "code",
   "execution_count": null,
   "metadata": {
    "collapsed": false,
    "deletable": true,
    "editable": true
   },
   "outputs": [],
   "source": [
    "m = process('new17')"
   ]
  },
  {
   "cell_type": "code",
   "execution_count": 10,
   "metadata": {
    "collapsed": false,
    "deletable": true,
    "editable": true
   },
   "outputs": [
    {
     "data": {
      "text/plain": [
       "array(['1', 'book_3539.task1', '0', '9'], \n",
       "      dtype='<U21')"
      ]
     },
     "execution_count": 10,
     "metadata": {},
     "output_type": "execute_result"
    }
   ],
   "source": [
    "y_t[0]"
   ]
  },
  {
   "cell_type": "code",
   "execution_count": 11,
   "metadata": {
    "collapsed": false,
    "deletable": true,
    "editable": true
   },
   "outputs": [
    {
     "name": "stdout",
     "output_type": "stream",
     "text": [
      "59381/59381 [==============================] - 9s     \n"
     ]
    }
   ],
   "source": [
    "model = load_neural_network('../models/' + 'new17')\n",
    "pred = model.predict_classes(X_test, batch_size=128, verbose=1)\n"
   ]
  },
  {
   "cell_type": "code",
   "execution_count": null,
   "metadata": {
    "collapsed": false,
    "deletable": true,
    "editable": true
   },
   "outputs": [],
   "source": [
    "save_t = []\n",
    "for x in y_t:\n",
    "    save_t.append(x)"
   ]
  },
  {
   "cell_type": "code",
   "execution_count": 17,
   "metadata": {
    "collapsed": false,
    "deletable": true,
    "editable": true
   },
   "outputs": [
    {
     "name": "stdout",
     "output_type": "stream",
     "text": [
      "59381 test size\n",
      "(59381, 2)\n"
     ]
    }
   ],
   "source": [
    "X_test,y_t = get_data(test_data)\n",
    "for x in range(0, len(y_t)):\n",
    "    y_t[x][0] = idx2Label[int(pred[x])].lower()"
   ]
  },
  {
   "cell_type": "code",
   "execution_count": null,
   "metadata": {
    "collapsed": false,
    "deletable": true,
    "editable": true
   },
   "outputs": [],
   "source": [
    "file_name = y_t[0][1]\n",
    "f = open(\"./pred/\" + file_name, \"w+\")\n",
    "pr = y_t[0]\n",
    "kol = -1\n",
    "for y in y_t[1:]:\n",
    "    kol = kol + 1\n",
    "    \n",
    "    if (pr[0] == y[0]) and (int(pr[2]) + int(pr[3]) + 1 == int(y[2])):\n",
    "        \n",
    "        y[3] = str(int(pr[3]) + 1 + int(y[3]))\n",
    "        y[2] = pr[2]\n",
    "        pr = y\n",
    "    elif (pr[0] == y[0]) and (int(pr[2]) + int(pr[3]) + 2 == int(y[2])):\n",
    "        \n",
    "        y[3] = str(int(pr[3]) + 2 + int(y[3]))\n",
    "        y[2] = pr[2]\n",
    "        pr = y\n",
    "        print(pr)\n",
    "    else:\n",
    "        if pr[0] != '3':\n",
    "            s = idx2Label[int(pr[0])].lower() + \" \" + pr[2] + \" \" + pr[3] + \"\\n\"\n",
    "            f.write(s)\n",
    "        pr = y\n",
    "    if file_name != y[1]:\n",
    "        f.close()\n",
    "        file_name = y[1]\n",
    "        f = open(\"./pred/\" + file_name, \"w+\")\n",
    "        #break\n",
    "s = idx2Label[int(pr[0])].lower() + \" \" + pr[2] + \" \" + pr[3] + \"\\n\"\n",
    "if pr[0] != '1': \n",
    "    f.write(s)\n",
    "f.close()"
   ]
  },
  {
   "cell_type": "code",
   "execution_count": 26,
   "metadata": {
    "collapsed": false,
    "deletable": true,
    "editable": true
   },
   "outputs": [],
   "source": [
    "import pandas as pd\n",
    "allINeed = pd.DataFrame(y_t, columns=[\"mark\", \"FileName\", \"posStartInText\", \"len\"])\n",
    "feats = pd.read_csv('../data/processed/new/Dialog_test/NER_testset.features.csv',sep=';',encoding='utf8')\n",
    "targets = pd.read_csv('../data/processed/new/Dialog_test/NER_testset.targets.csv',sep=';',encoding='utf8')"
   ]
  },
  {
   "cell_type": "code",
   "execution_count": 29,
   "metadata": {
    "collapsed": true,
    "deletable": true,
    "editable": true
   },
   "outputs": [],
   "source": [
    " def WriteLinesTo(allObjects, fileName):\n",
    "    f = open(fileName, \"w+\")\n",
    "    #print(len(allObjects))\n",
    "    f.writelines(allObjects)\n",
    "    f.close()\n",
    "    "
   ]
  },
  {
   "cell_type": "code",
   "execution_count": 33,
   "metadata": {
    "collapsed": false,
    "deletable": true,
    "editable": true
   },
   "outputs": [
    {
     "name": "stdout",
     "output_type": "stream",
     "text": [
      "24\n",
      "71\n",
      "22\n",
      "58\n",
      "29\n",
      "53\n",
      "14\n",
      "16\n",
      "68\n",
      "18\n",
      "8\n",
      "37\n",
      "31\n",
      "29\n",
      "14\n",
      "39\n",
      "76\n",
      "30\n",
      "46\n",
      "48\n",
      "32\n",
      "10\n",
      "52\n",
      "25\n",
      "35\n",
      "18\n",
      "21\n",
      "19\n",
      "21\n",
      "21\n",
      "48\n",
      "16\n",
      "24\n",
      "62\n",
      "290\n",
      "28\n",
      "21\n",
      "34\n",
      "15\n",
      "127\n",
      "26\n",
      "40\n",
      "226\n",
      "38\n",
      "64\n",
      "40\n",
      "31\n",
      "22\n",
      "43\n",
      "17\n",
      "70\n",
      "24\n",
      "8\n",
      "12\n",
      "26\n",
      "30\n",
      "22\n",
      "25\n",
      "22\n",
      "57\n",
      "62\n",
      "25\n",
      "27\n",
      "117\n",
      "44\n",
      "36\n",
      "17\n",
      "13\n",
      "32\n",
      "66\n",
      "37\n",
      "19\n",
      "53\n",
      "38\n",
      "29\n",
      "51\n",
      "29\n",
      "27\n",
      "19\n",
      "23\n",
      "62\n",
      "22\n",
      "30\n",
      "49\n",
      "79\n",
      "14\n",
      "12\n",
      "34\n",
      "9\n",
      "26\n",
      "21\n",
      "35\n",
      "30\n",
      "38\n",
      "18\n",
      "40\n",
      "55\n",
      "42\n",
      "33\n",
      "53\n",
      "28\n",
      "32\n",
      "35\n",
      "27\n",
      "94\n",
      "37\n",
      "96\n",
      "26\n",
      "54\n",
      "22\n",
      "29\n",
      "144\n",
      "56\n",
      "33\n",
      "18\n",
      "14\n",
      "12\n",
      "28\n",
      "20\n",
      "59\n",
      "69\n",
      "12\n",
      "35\n",
      "33\n",
      "51\n",
      "41\n",
      "61\n",
      "33\n",
      "36\n",
      "19\n",
      "29\n",
      "33\n"
     ]
    }
   ],
   "source": [
    "#allINeed = pd.concat([feats.loc[:,[\"posStartInText\",\"len\"]],targets.loc[:,[\"mark\",\"FileName\"]]],axis=1)\n",
    "\n",
    "tags = {\"per\":\"per\",\"loc\":\"loc\",\"org\":\"org\"}\n",
    "#tags = [\"per\", \"loc\",\"org\"]\n",
    "for fileName in list(set(allINeed[\"FileName\"])):\n",
    "    allObjects = []\n",
    "    currentObject = []\n",
    "    for cl in tags.keys():\n",
    "        for i,row in allINeed.loc[targets[\"FileName\"]==fileName].iterrows():\n",
    "            if row[\"mark\"]==cl:\n",
    "                if len(currentObject)>0:\n",
    "                    lengthOfObj = int(row['posStartInText']) - int(currentObject[1]) + int(row['len'])\n",
    "                    currentObject[2] = lengthOfObj\n",
    "                else:\n",
    "                    currentObject.append(tags[cl])\n",
    "                    currentObject.append(row['posStartInText'])\n",
    "                    currentObject.append(row['len'])\n",
    "            else:\n",
    "                if len(currentObject)>0:\n",
    "                    currentObject[1]=str(int(currentObject[1]))\n",
    "                    currentObject[2]=str(int(currentObject[2]))\n",
    "                    allObjects.append(currentObject)\n",
    "                    currentObject = []\n",
    "        if len(currentObject)>0:\n",
    "            currentObject[1]=str(int(currentObject[1]))\n",
    "            currentObject[2]=str(int(currentObject[2]))\n",
    "            allObjects.append(currentObject)\n",
    "            currentObject = []\n",
    "    allObjects = [\" \".join(obj)+\"\\n\" for obj in allObjects]\n",
    "    WriteLinesTo(allObjects,\"./forTests/\"+fileName)"
   ]
  }
 ],
 "metadata": {
  "kernelspec": {
   "display_name": "Python 2",
   "language": "python",
   "name": "python2"
  },
  "language_info": {
   "codemirror_mode": {
    "name": "ipython",
    "version": 2
   },
   "file_extension": ".py",
   "mimetype": "text/x-python",
   "name": "python",
   "nbconvert_exporter": "python",
   "pygments_lexer": "ipython2",
   "version": "2.7.6"
  }
 },
 "nbformat": 4,
 "nbformat_minor": 2
}
